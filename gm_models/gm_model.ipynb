{
 "cells": [
  {
   "cell_type": "code",
   "execution_count": 301,
   "metadata": {},
   "outputs": [],
   "source": [
    "from keras.models import load_model\n",
    "from model import *\n",
    "from deepseg_gm import *\n",
    "import numpy as np\n",
    "import matplotlib.pyplot as plt\n",
    "import nibabel as nib\n",
    "import tensorflow as tf\n",
    "from keras import Model"
   ]
  },
  {
   "cell_type": "code",
   "execution_count": 227,
   "metadata": {},
   "outputs": [],
   "source": [
    "'''\n",
    "Normalize volume to mean ~= 0 and std ~= 1\n",
    "@input: volume to be normalized\n",
    "@return: normalized volume\n",
    "'''\n",
    "def vol_norm(volume):\n",
    "    \"\"\"This method will enable the function call for the\n",
    "        class object.\n",
    "\n",
    "        :param volume: the volume to be normalized.\n",
    "        \"\"\"\n",
    "    volume_mean = volume.mean()\n",
    "    volume_std = volume.std()\n",
    "\n",
    "    volume -= volume_mean\n",
    "    volume /= volume_std\n",
    "\n",
    "    return volume"
   ]
  },
  {
   "cell_type": "code",
   "execution_count": 228,
   "metadata": {},
   "outputs": [],
   "source": [
    "'''\n",
    "Reshape the matrix and fix the dimensionality\n",
    "@input 3D array\n",
    "@output: concatenated array\n",
    "'''\n",
    "def shape_and_norm(arr, norm = True):\n",
    "    arr_sampled = []\n",
    "    for i in range(arr.shape[2]):\n",
    "        if norm:\n",
    "            arr_sampled.append(vol_norm(np.reshape(arr[:,:,i], (1, 256, 256))))\n",
    "        else:\n",
    "            # Just resample no norm \n",
    "            arr_sampled.append(np.reshape(arr[:,:,i], (1, 256, 256)))\n",
    "    return np.concatenate(arr_sampled, axis=0)"
   ]
  },
  {
   "cell_type": "code",
   "execution_count": 229,
   "metadata": {},
   "outputs": [],
   "source": [
    "'''\n",
    "Reshape a single slice to (1, 256, 256) and vice versa\n",
    "@input: 2D array\n",
    "@return: reshaped array\n",
    "'''\n",
    "def reshape_single_slice(arr, inverse = False):\n",
    "    if not inverse:\n",
    "        return np.reshape(arr, (1, 256, 256))\n",
    "    else:\n",
    "        return np.reshape(arr, (256, 256))"
   ]
  },
  {
   "cell_type": "code",
   "execution_count": 302,
   "metadata": {},
   "outputs": [],
   "source": [
    "bmodel = create_model(32)\n",
    "opt = Adam(lr=0.001)\n",
    "bmodel.compile(optimizer=opt,\n",
    "                loss=dice_coef_loss,\n",
    "                metrics=['accuracy', dice_coef])\n",
    "bmodel.load_weights('challenge_model.hdf5')"
   ]
  },
  {
   "cell_type": "code",
   "execution_count": 303,
   "metadata": {},
   "outputs": [
    {
     "name": "stdout",
     "output_type": "stream",
     "text": [
      "Model: \"model_8\"\n",
      "__________________________________________________________________________________________________\n",
      " Layer (type)                   Output Shape         Param #     Connected to                     \n",
      "==================================================================================================\n",
      " input_9 (InputLayer)           [(None, 256, 256, 1  0           []                               \n",
      "                                )]                                                                \n",
      "                                                                                                  \n",
      " conv2d_16 (Conv2D)             (None, 256, 256, 32  320         ['input_9[0][0]']                \n",
      "                                )                                                                 \n",
      "                                                                                                  \n",
      " batch_normalization_128 (Batch  (None, 256, 256, 32  128        ['conv2d_16[0][0]']              \n",
      " Normalization)                 )                                                                 \n",
      "                                                                                                  \n",
      " dropout_128 (Dropout)          (None, 256, 256, 32  0           ['batch_normalization_128[0][0]']\n",
      "                                )                                                                 \n",
      "                                                                                                  \n",
      " conv2d_17 (Conv2D)             (None, 256, 256, 32  9248        ['dropout_128[0][0]']            \n",
      "                                )                                                                 \n",
      "                                                                                                  \n",
      " batch_normalization_129 (Batch  (None, 256, 256, 32  128        ['conv2d_17[0][0]']              \n",
      " Normalization)                 )                                                                 \n",
      "                                                                                                  \n",
      " dropout_129 (Dropout)          (None, 256, 256, 32  0           ['batch_normalization_129[0][0]']\n",
      "                                )                                                                 \n",
      "                                                                                                  \n",
      " rate2_1 (Conv2D)               (None, 256, 256, 32  9248        ['dropout_129[0][0]']            \n",
      "                                )                                                                 \n",
      "                                                                                                  \n",
      " batch_normalization_130 (Batch  (None, 256, 256, 32  128        ['rate2_1[0][0]']                \n",
      " Normalization)                 )                                                                 \n",
      "                                                                                                  \n",
      " dropout_130 (Dropout)          (None, 256, 256, 32  0           ['batch_normalization_130[0][0]']\n",
      "                                )                                                                 \n",
      "                                                                                                  \n",
      " rate2_2 (Conv2D)               (None, 256, 256, 32  9248        ['dropout_130[0][0]']            \n",
      "                                )                                                                 \n",
      "                                                                                                  \n",
      " batch_normalization_131 (Batch  (None, 256, 256, 32  128        ['rate2_2[0][0]']                \n",
      " Normalization)                 )                                                                 \n",
      "                                                                                                  \n",
      " dropout_131 (Dropout)          (None, 256, 256, 32  0           ['batch_normalization_131[0][0]']\n",
      "                                )                                                                 \n",
      "                                                                                                  \n",
      " branch1x1_1 (Conv2D)           (None, 256, 256, 32  9248        ['dropout_131[0][0]']            \n",
      "                                )                                                                 \n",
      "                                                                                                  \n",
      " rate6_1 (Conv2D)               (None, 256, 256, 32  9248        ['dropout_131[0][0]']            \n",
      "                                )                                                                 \n",
      "                                                                                                  \n",
      " rate12_1 (Conv2D)              (None, 256, 256, 32  9248        ['dropout_131[0][0]']            \n",
      "                                )                                                                 \n",
      "                                                                                                  \n",
      " rate18_1 (Conv2D)              (None, 256, 256, 32  9248        ['dropout_131[0][0]']            \n",
      "                                )                                                                 \n",
      "                                                                                                  \n",
      " rate24_1 (Conv2D)              (None, 256, 256, 32  9248        ['dropout_131[0][0]']            \n",
      "                                )                                                                 \n",
      "                                                                                                  \n",
      " batch_normalization_132 (Batch  (None, 256, 256, 32  128        ['branch1x1_1[0][0]']            \n",
      " Normalization)                 )                                                                 \n",
      "                                                                                                  \n",
      " batch_normalization_134 (Batch  (None, 256, 256, 32  128        ['rate6_1[0][0]']                \n",
      " Normalization)                 )                                                                 \n",
      "                                                                                                  \n",
      " batch_normalization_136 (Batch  (None, 256, 256, 32  128        ['rate12_1[0][0]']               \n",
      " Normalization)                 )                                                                 \n",
      "                                                                                                  \n",
      " batch_normalization_138 (Batch  (None, 256, 256, 32  128        ['rate18_1[0][0]']               \n",
      " Normalization)                 )                                                                 \n",
      "                                                                                                  \n",
      " batch_normalization_140 (Batch  (None, 256, 256, 32  128        ['rate24_1[0][0]']               \n",
      " Normalization)                 )                                                                 \n",
      "                                                                                                  \n",
      " dropout_132 (Dropout)          (None, 256, 256, 32  0           ['batch_normalization_132[0][0]']\n",
      "                                )                                                                 \n",
      "                                                                                                  \n",
      " dropout_134 (Dropout)          (None, 256, 256, 32  0           ['batch_normalization_134[0][0]']\n",
      "                                )                                                                 \n",
      "                                                                                                  \n",
      " dropout_136 (Dropout)          (None, 256, 256, 32  0           ['batch_normalization_136[0][0]']\n",
      "                                )                                                                 \n",
      "                                                                                                  \n",
      " dropout_138 (Dropout)          (None, 256, 256, 32  0           ['batch_normalization_138[0][0]']\n",
      "                                )                                                                 \n",
      "                                                                                                  \n",
      " dropout_140 (Dropout)          (None, 256, 256, 32  0           ['batch_normalization_140[0][0]']\n",
      "                                )                                                                 \n",
      "                                                                                                  \n",
      " branch1x1_2 (Conv2D)           (None, 256, 256, 32  1056        ['dropout_132[0][0]']            \n",
      "                                )                                                                 \n",
      "                                                                                                  \n",
      " rate6_2 (Conv2D)               (None, 256, 256, 32  9248        ['dropout_134[0][0]']            \n",
      "                                )                                                                 \n",
      "                                                                                                  \n",
      " rate12_2 (Conv2D)              (None, 256, 256, 32  9248        ['dropout_136[0][0]']            \n",
      "                                )                                                                 \n",
      "                                                                                                  \n",
      " rate18_2 (Conv2D)              (None, 256, 256, 32  9248        ['dropout_138[0][0]']            \n",
      "                                )                                                                 \n",
      "                                                                                                  \n",
      " global_average_pooling2d_8 (Gl  (None, 32)          0           ['dropout_129[0][0]']            \n",
      " obalAveragePooling2D)                                                                            \n",
      "                                                                                                  \n",
      " rate24_2 (Conv2D)              (None, 256, 256, 32  9248        ['dropout_140[0][0]']            \n",
      "                                )                                                                 \n",
      "                                                                                                  \n",
      " batch_normalization_133 (Batch  (None, 256, 256, 32  128        ['branch1x1_2[0][0]']            \n",
      " Normalization)                 )                                                                 \n",
      "                                                                                                  \n",
      " batch_normalization_135 (Batch  (None, 256, 256, 32  128        ['rate6_2[0][0]']                \n",
      " Normalization)                 )                                                                 \n",
      "                                                                                                  \n",
      " batch_normalization_137 (Batch  (None, 256, 256, 32  128        ['rate12_2[0][0]']               \n",
      " Normalization)                 )                                                                 \n",
      "                                                                                                  \n",
      " batch_normalization_139 (Batch  (None, 256, 256, 32  128        ['rate18_2[0][0]']               \n",
      " Normalization)                 )                                                                 \n",
      "                                                                                                  \n",
      " repeat_vector_8 (RepeatVector)  (None, 65536, 32)   0           ['global_average_pooling2d_8[0][0\n",
      "                                                                 ]']                              \n",
      "                                                                                                  \n",
      " batch_normalization_141 (Batch  (None, 256, 256, 32  128        ['rate24_2[0][0]']               \n",
      " Normalization)                 )                                                                 \n",
      "                                                                                                  \n",
      " dropout_133 (Dropout)          (None, 256, 256, 32  0           ['batch_normalization_133[0][0]']\n",
      "                                )                                                                 \n",
      "                                                                                                  \n",
      " dropout_135 (Dropout)          (None, 256, 256, 32  0           ['batch_normalization_135[0][0]']\n",
      "                                )                                                                 \n",
      "                                                                                                  \n",
      " dropout_137 (Dropout)          (None, 256, 256, 32  0           ['batch_normalization_137[0][0]']\n",
      "                                )                                                                 \n",
      "                                                                                                  \n",
      " dropout_139 (Dropout)          (None, 256, 256, 32  0           ['batch_normalization_139[0][0]']\n",
      "                                )                                                                 \n",
      "                                                                                                  \n",
      " reshape_8 (Reshape)            (None, 256, 256, 32  0           ['repeat_vector_8[0][0]']        \n",
      "                                )                                                                 \n",
      "                                                                                                  \n",
      " dropout_141 (Dropout)          (None, 256, 256, 32  0           ['batch_normalization_141[0][0]']\n",
      "                                )                                                                 \n",
      "                                                                                                  \n",
      " concatenate_8 (Concatenate)    (None, 256, 256, 19  0           ['dropout_133[0][0]',            \n",
      "                                2)                                'dropout_135[0][0]',            \n",
      "                                                                  'dropout_137[0][0]',            \n",
      "                                                                  'dropout_139[0][0]',            \n",
      "                                                                  'reshape_8[0][0]',              \n",
      "                                                                  'dropout_141[0][0]']            \n",
      "                                                                                                  \n",
      " batch_normalization_142 (Batch  (None, 256, 256, 19  768        ['concatenate_8[0][0]']          \n",
      " Normalization)                 2)                                                                \n",
      "                                                                                                  \n",
      " dropout_142 (Dropout)          (None, 256, 256, 19  0           ['batch_normalization_142[0][0]']\n",
      "                                2)                                                                \n",
      "                                                                                                  \n",
      " amort (Conv2D)                 (None, 256, 256, 64  12352       ['dropout_142[0][0]']            \n",
      "                                )                                                                 \n",
      "                                                                                                  \n",
      " batch_normalization_143 (Batch  (None, 256, 256, 64  256        ['amort[0][0]']                  \n",
      " Normalization)                 )                                                                 \n",
      "                                                                                                  \n",
      " dropout_143 (Dropout)          (None, 256, 256, 64  0           ['batch_normalization_143[0][0]']\n",
      "                                )                                                                 \n",
      "                                                                                                  \n",
      " predictions (Conv2D)           (None, 256, 256, 1)  65          ['dropout_143[0][0]']            \n",
      "                                                                                                  \n",
      "==================================================================================================\n",
      "Total params: 127,585\n",
      "Trainable params: 126,177\n",
      "Non-trainable params: 1,408\n",
      "__________________________________________________________________________________________________\n"
     ]
    }
   ],
   "source": [
    "bmodel.summary()"
   ]
  },
  {
   "cell_type": "markdown",
   "metadata": {},
   "source": [
    "### Load in the data and do some testing"
   ]
  },
  {
   "cell_type": "code",
   "execution_count": 232,
   "metadata": {},
   "outputs": [],
   "source": [
    "#Load in the data\n",
    "train_data = shape_and_norm(np.load('../data/train_data.npy'))\n",
    "train_targets = shape_and_norm(np.load('../data/train_targets.npy'), False)\n",
    "val_data = shape_and_norm(np.load('../data/val_data.npy'))\n",
    "val_targets = shape_and_norm(np.load('../data/val_targets.npy'), False)\n",
    "test_data = shape_and_norm(np.load('../data/test_data.npy'))\n",
    "test_targets = shape_and_norm(np.load('../data/test_targets.npy'), False)\n",
    "sct_targets = shape_and_norm(np.load('../data/sct_targets.npy'), False)"
   ]
  },
  {
   "cell_type": "markdown",
   "metadata": {},
   "source": [
    "### Try some training"
   ]
  },
  {
   "cell_type": "code",
   "execution_count": 304,
   "metadata": {},
   "outputs": [
    {
     "name": "stdout",
     "output_type": "stream",
     "text": [
      "Epoch 1/15\n",
      "49/49 [==============================] - 266s 5s/step - loss: -0.8237 - accuracy: 0.9991 - dice_coef: 0.8237 - val_loss: -0.8463 - val_accuracy: 0.9993 - val_dice_coef: 0.8469\n",
      "Epoch 2/15\n",
      "49/49 [==============================] - 263s 5s/step - loss: -0.8420 - accuracy: 0.9991 - dice_coef: 0.8420 - val_loss: -0.8510 - val_accuracy: 0.9993 - val_dice_coef: 0.8516\n",
      "Epoch 3/15\n",
      "49/49 [==============================] - 262s 5s/step - loss: -0.8586 - accuracy: 0.9992 - dice_coef: 0.8586 - val_loss: -0.8642 - val_accuracy: 0.9994 - val_dice_coef: 0.8647\n",
      "Epoch 4/15\n",
      "49/49 [==============================] - 283s 6s/step - loss: -0.8609 - accuracy: 0.9993 - dice_coef: 0.8609 - val_loss: -0.8676 - val_accuracy: 0.9994 - val_dice_coef: 0.8679\n",
      "Epoch 5/15\n",
      "49/49 [==============================] - 293s 6s/step - loss: -0.8684 - accuracy: 0.9993 - dice_coef: 0.8684 - val_loss: -0.8698 - val_accuracy: 0.9994 - val_dice_coef: 0.8701\n",
      "Epoch 6/15\n",
      "49/49 [==============================] - 2652s 55s/step - loss: -0.8678 - accuracy: 0.9993 - dice_coef: 0.8678 - val_loss: -0.8713 - val_accuracy: 0.9994 - val_dice_coef: 0.8716\n",
      "Epoch 7/15\n",
      "49/49 [==============================] - 237s 5s/step - loss: -0.8737 - accuracy: 0.9993 - dice_coef: 0.8737 - val_loss: -0.8764 - val_accuracy: 0.9994 - val_dice_coef: 0.8767\n",
      "Epoch 8/15\n",
      "49/49 [==============================] - 231s 5s/step - loss: -0.8735 - accuracy: 0.9993 - dice_coef: 0.8735 - val_loss: -0.8818 - val_accuracy: 0.9994 - val_dice_coef: 0.8821\n",
      "Epoch 9/15\n",
      "49/49 [==============================] - 244s 5s/step - loss: -0.8755 - accuracy: 0.9993 - dice_coef: 0.8755 - val_loss: -0.8766 - val_accuracy: 0.9994 - val_dice_coef: 0.8769\n",
      "Epoch 10/15\n",
      "49/49 [==============================] - 236s 5s/step - loss: -0.8746 - accuracy: 0.9993 - dice_coef: 0.8746 - val_loss: -0.8769 - val_accuracy: 0.9994 - val_dice_coef: 0.8772\n",
      "Epoch 11/15\n",
      "49/49 [==============================] - 233s 5s/step - loss: -0.8744 - accuracy: 0.9993 - dice_coef: 0.8744 - val_loss: -0.8824 - val_accuracy: 0.9995 - val_dice_coef: 0.8827\n",
      "Epoch 12/15\n",
      "49/49 [==============================] - 233s 5s/step - loss: -0.8775 - accuracy: 0.9993 - dice_coef: 0.8775 - val_loss: -0.8831 - val_accuracy: 0.9994 - val_dice_coef: 0.8833\n",
      "Epoch 13/15\n",
      "49/49 [==============================] - 236s 5s/step - loss: -0.8757 - accuracy: 0.9993 - dice_coef: 0.8757 - val_loss: -0.8856 - val_accuracy: 0.9994 - val_dice_coef: 0.8859\n",
      "Epoch 14/15\n",
      "49/49 [==============================] - 220s 5s/step - loss: -0.8762 - accuracy: 0.9993 - dice_coef: 0.8762 - val_loss: -0.8837 - val_accuracy: 0.9994 - val_dice_coef: 0.8839\n",
      "Epoch 15/15\n",
      "49/49 [==============================] - 244s 5s/step - loss: -0.8831 - accuracy: 0.9994 - dice_coef: 0.8831 - val_loss: -0.8870 - val_accuracy: 0.9995 - val_dice_coef: 0.8873\n"
     ]
    }
   ],
   "source": [
    "history = Model.fit(bmodel, test_data, test_targets, batch_size=BATCH_SIZE, epochs=15, validation_data=(val_data, val_targets), validation_batch_size=BATCH_SIZE)"
   ]
  },
  {
   "cell_type": "code",
   "execution_count": 305,
   "metadata": {},
   "outputs": [
    {
     "name": "stdout",
     "output_type": "stream",
     "text": [
      "7/7 [==============================] - 39s 5s/step - loss: -0.8989 - accuracy: 0.9994 - dice_coef: 0.9042\n"
     ]
    }
   ],
   "source": [
    "(loss, accuracy, dsc) = Model.evaluate(bmodel, test_data, test_targets, verbose=1)"
   ]
  },
  {
   "cell_type": "code",
   "execution_count": 310,
   "metadata": {},
   "outputs": [
    {
     "data": {
      "text/plain": [
       "<matplotlib.legend.Legend at 0x2ec99535c70>"
      ]
     },
     "execution_count": 310,
     "metadata": {},
     "output_type": "execute_result"
    },
    {
     "data": {
      "image/png": "[encoded data removed]",
      "text/plain": [
       "<Figure size 432x288 with 1 Axes>"
      ]
     },
     "metadata": {
      "needs_background": "light"
     },
     "output_type": "display_data"
    }
   ],
   "source": [
    "plt.plot(history.history['dice_coef'], label='dice_coef')\n",
    "plt.plot(history.history['val_dice_coef'], label = 'val_dice_coef')\n",
    "plt.xlabel('Epoch')\n",
    "plt.ylabel('dice_coef')\n",
    "plt.ylim([0.82, 0.89])\n",
    "plt.legend(loc='lower right')"
   ]
  },
  {
   "cell_type": "code",
   "execution_count": 308,
   "metadata": {},
   "outputs": [
    {
     "name": "stdout",
     "output_type": "stream",
     "text": [
      "0.8969±0.0735\n"
     ]
    }
   ],
   "source": [
    "#Calculate DSC\n",
    "all_preds = Model.predict(bmodel, test_data)\n",
    "\n",
    "# Reshape and threshold predictions\n",
    "all_preds = threshold_predictions(np.reshape(all_preds, (196, 256, 256)))\n",
    "\n",
    "dsc_scores = []\n",
    "for i in range(all_preds.shape[0]):\n",
    "    dsc_scores.append(dice_coef(test_targets[i,:,:].astype('float64'), all_preds[i, :, :].astype('float64')))\n",
    "\n",
    "print('{:.4f}±{:.4f}'.format(np.mean(dsc_scores),np.std(dsc_scores)))"
   ]
  },
  {
   "cell_type": "markdown",
   "metadata": {},
   "source": [
    "### Compare SCT_output with test_targets to get dsc"
   ]
  },
  {
   "cell_type": "code",
   "execution_count": 288,
   "metadata": {},
   "outputs": [
    {
     "name": "stdout",
     "output_type": "stream",
     "text": [
      "0.8782±0.2411\n"
     ]
    }
   ],
   "source": [
    "#Calculate DSC\n",
    "sct_dsc_scores = []\n",
    "for i in range(sct_targets.shape[0]):\n",
    "    sct_dsc_scores.append(dice_coef(test_targets[i,:,:].astype('float64'), sct_targets[i, :, :].astype('float64')))\n",
    "\n",
    "print('{:.4f}±{:.4f}'.format(np.mean(sct_dsc_scores),np.std(sct_dsc_scores)))"
   ]
  },
  {
   "cell_type": "code",
   "execution_count": 312,
   "metadata": {},
   "outputs": [],
   "source": [
    "# Save model\n",
    "bmodel.save_weights('trained_15_epoch_no_augmentation.h5')"
   ]
  },
  {
   "cell_type": "code",
   "execution_count": null,
   "metadata": {},
   "outputs": [],
   "source": []
  }
 ],
 "metadata": {
  "interpreter": {
   "hash": "e68b78ad03c51646e0eaa4a4eb881b510200a333ff0c907a4238174a6f65a672"
  },
  "kernelspec": {
   "display_name": "Python 3.8.5 ('py36')",
   "language": "python",
   "name": "python3"
  },
  "language_info": {
   "codemirror_mode": {
    "name": "ipython",
    "version": 3
   },
   "file_extension": ".py",
   "mimetype": "text/x-python",
   "name": "python",
   "nbconvert_exporter": "python",
   "pygments_lexer": "ipython3",
   "version": "3.8.11"
  },
  "orig_nbformat": 4
 },
 "nbformat": 4,
 "nbformat_minor": 2
}
