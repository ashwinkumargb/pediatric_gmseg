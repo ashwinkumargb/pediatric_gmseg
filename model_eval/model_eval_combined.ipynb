{
 "cells": [
  {
   "cell_type": "markdown",
   "metadata": {},
   "source": [
    "## Evaluate the models obtained through training\n",
    "\n",
    "Author: Ashwin Kumar (ashwin.kumar@vanderbilt.edu)  \n",
    "Description: Create plots and conduct model evaluation on the models obtained from training."
   ]
  },
  {
   "cell_type": "code",
   "execution_count": 162,
   "metadata": {},
   "outputs": [],
   "source": [
    "import numpy as np\n",
    "import matplotlib.pyplot as plt\n",
    "from model import *\n",
    "from deepseg_gm import *\n",
    "import numpy as np\n",
    "import matplotlib.pyplot as plt\n",
    "import nibabel as nib\n",
    "import tensorflow as tf\n",
    "from keras import Model\n",
    "from keras.models import load_model\n",
    "from sklearn.metrics import recall_score\n",
    "from sklearn.metrics import confusion_matrix"
   ]
  },
  {
   "cell_type": "code",
   "execution_count": 7,
   "metadata": {},
   "outputs": [],
   "source": [
    "'''\n",
    "Normalize volume to mean ~= 0 and std ~= 1\n",
    "@input: volume to be normalized\n",
    "@return: normalized volume\n",
    "'''\n",
    "def vol_norm(volume):\n",
    "    volume_mean = volume.mean()\n",
    "    volume_std = volume.std()\n",
    "\n",
    "    volume -= volume_mean\n",
    "    volume /= volume_std\n",
    "\n",
    "    return volume\n",
    "\n",
    "'''\n",
    "Reshape the matrix and fix the dimensionality\n",
    "@input 3D array\n",
    "@output: concatenated array\n",
    "'''\n",
    "def shape_and_norm(arr, norm = True):\n",
    "    arr_sampled = []\n",
    "    for i in range(arr.shape[2]):\n",
    "        if norm:\n",
    "            arr_sampled.append(vol_norm(np.reshape(arr[:,:,i], (1, 256, 256))))\n",
    "        else:\n",
    "            # Just resample no norm \n",
    "            arr_sampled.append(np.reshape(arr[:,:,i], (1, 256, 256)))\n",
    "    return np.concatenate(arr_sampled, axis=0)"
   ]
  },
  {
   "cell_type": "markdown",
   "metadata": {},
   "source": [
    "Load test data"
   ]
  },
  {
   "cell_type": "code",
   "execution_count": 8,
   "metadata": {},
   "outputs": [],
   "source": [
    "test_data = shape_and_norm(np.load('../data/test_data.npy'))\n",
    "test_targets = shape_and_norm(np.load('../data/test_targets.npy'), False)"
   ]
  },
  {
   "cell_type": "markdown",
   "metadata": {},
   "source": [
    "## Load in models and get predicted volumes"
   ]
  },
  {
   "cell_type": "markdown",
   "metadata": {},
   "source": [
    "Load in the baseline model"
   ]
  },
  {
   "cell_type": "code",
   "execution_count": 16,
   "metadata": {},
   "outputs": [],
   "source": [
    "bmodel = create_model(32)\n",
    "bmodel.load_weights('challenge_model.hdf5')\n",
    "\n",
    "#Calculate DSC\n",
    "bmodel_preds = Model.predict(bmodel, test_data)\n",
    "\n",
    "# Reshape and threshold predictions\n",
    "bmodel_preds = threshold_predictions(np.reshape(bmodel_preds, (196, 256, 256)))"
   ]
  },
  {
   "cell_type": "markdown",
   "metadata": {},
   "source": [
    "Load the GM Model with no pretraining"
   ]
  },
  {
   "cell_type": "code",
   "execution_count": 17,
   "metadata": {},
   "outputs": [],
   "source": [
    "gm_no_pretrain = create_model(32)\n",
    "gm_no_pretrain.load_weights('gm_model_no_pretrain/trained_17_epoch_aug.h5')\n",
    "\n",
    "#Calculate model predictions\n",
    "gm_no_pretrain_preds = Model.predict(gm_no_pretrain, test_data)\n",
    "\n",
    "# Reshape and threshold predictions\n",
    "gm_no_pretrain_preds = threshold_predictions(np.reshape(gm_no_pretrain_preds, (196, 256, 256)))"
   ]
  },
  {
   "cell_type": "markdown",
   "metadata": {},
   "source": [
    "Load the GM Model with pretraining"
   ]
  },
  {
   "cell_type": "code",
   "execution_count": 18,
   "metadata": {},
   "outputs": [],
   "source": [
    "gm_pretrain = create_model(32)\n",
    "gm_pretrain.load_weights('gm_model_pretrain/trained_11_epoch_aug.h5')\n",
    "\n",
    "#Calculate model predictions\n",
    "gm_pretrain_preds = Model.predict(gm_pretrain, test_data)\n",
    "\n",
    "# Reshape and threshold predictions\n",
    "gm_pretrain_preds = threshold_predictions(np.reshape(gm_pretrain_preds, (196, 256, 256)))"
   ]
  },
  {
   "cell_type": "markdown",
   "metadata": {},
   "source": [
    "Load the GM Augmented Model with no pretraining"
   ]
  },
  {
   "cell_type": "code",
   "execution_count": 19,
   "metadata": {},
   "outputs": [],
   "source": [
    "gm_aug_no_pretrain = create_model(32)\n",
    "gm_aug_no_pretrain.load_weights('gm_aug_model_no_pretrain/trained_14_epoch_aug.h5')\n",
    "\n",
    "#Calculate model predictions\n",
    "gm_aug_no_pretrain_preds = Model.predict(gm_aug_no_pretrain, test_data)\n",
    "\n",
    "# Reshape and threshold predictions\n",
    "gm_aug_no_pretrain_preds = threshold_predictions(np.reshape(gm_aug_no_pretrain_preds, (196, 256, 256)))"
   ]
  },
  {
   "cell_type": "markdown",
   "metadata": {},
   "source": [
    "Load the GM Augmented Model with no pretraining"
   ]
  },
  {
   "cell_type": "code",
   "execution_count": 20,
   "metadata": {},
   "outputs": [],
   "source": [
    "gm_aug_pretrain = create_model(32)\n",
    "gm_aug_pretrain.load_weights('gm_aug_model_pretrain/trained_8_epoch_aug.h5')\n",
    "\n",
    "#Calculate model predictions\n",
    "gm_aug_pretrain_preds = Model.predict(gm_aug_pretrain, test_data)\n",
    "\n",
    "# Reshape and threshold predictions\n",
    "gm_aug_pretrain_preds = threshold_predictions(np.reshape(gm_aug_pretrain_preds, (196, 256, 256)))"
   ]
  },
  {
   "cell_type": "markdown",
   "metadata": {},
   "source": [
    "## Evaluate Dice Coefficient"
   ]
  },
  {
   "cell_type": "code",
   "execution_count": 48,
   "metadata": {},
   "outputs": [],
   "source": [
    "'''\n",
    "Calculate dice coefficient between predicted model output and targets\n",
    "@input: computed model predictions \n",
    "@input: test targets that function as ground truth\n",
    "@return: numpy array with dice scores\n",
    "'''\n",
    "def dice_eval(model_preds, test_targets):\n",
    "    dsc_scores = []\n",
    "    for i in range(model_preds.shape[0]):\n",
    "        dsc_scores.append(dice_coef(test_targets[i,:,:].astype('float64'), model_preds[i, :, :].astype('float64')).numpy())\n",
    "    return np.asarray(dsc_scores)"
   ]
  },
  {
   "cell_type": "code",
   "execution_count": 140,
   "metadata": {},
   "outputs": [],
   "source": [
    "#Compute Dice for Base Model\n",
    "bmodel_dsc = dice_eval(bmodel_preds, test_targets)\n",
    "\n",
    "#Compute Dice for GM no pretrain\n",
    "gm_no_pretrain_dsc = dice_eval(gm_no_pretrain_preds, test_targets)\n",
    "\n",
    "#Compute Dice for GM pretrain\n",
    "gm_pretrain_dsc = dice_eval(gm_pretrain_preds, test_targets)\n",
    "\n",
    "#Compute Dice for GM Aug no pretrain\n",
    "gm_aug_no_pretrain_dsc = dice_eval(gm_aug_no_pretrain_preds, test_targets)\n",
    "\n",
    "#Compute Dice for GM Aug pretrain\n",
    "gm_aug_pretrain_dsc = dice_eval(gm_aug_pretrain_preds, test_targets)"
   ]
  },
  {
   "cell_type": "code",
   "execution_count": 141,
   "metadata": {},
   "outputs": [
    {
     "data": {
      "image/png": "[encoded data removed]",
      "text/plain": [
       "<Figure size 432x288 with 1 Axes>"
      ]
     },
     "metadata": {
      "needs_background": "light"
     },
     "output_type": "display_data"
    }
   ],
   "source": [
    "# Label to define models\n",
    "labels = ['Baseline', 'No Pretrain', 'Pretrain', 'Aug No Pretrain', 'Aug Pretrain']\n",
    "median_style = dict(linestyle='solid',linewidth=3.0, color='orange')\n",
    "mean_style = dict(linestyle='solid',linewidth=3.0, color='green')\n",
    "# box_style = dict(linestyle='solid',linewidth=4.0, color='black')\n",
    "fig1, ax1 = plt.subplots()\n",
    "# Create the boxplot\n",
    "dsc_data = [bmodel_dsc, gm_no_pretrain_dsc, gm_pretrain_dsc, gm_aug_no_pretrain_dsc, gm_aug_pretrain_dsc]\n",
    "ax1.set_ylabel('Dice Similarity Coefficient')\n",
    "# ax1.set_ylim([0, 1])\n",
    "ax1.boxplot(dsc_data, showfliers=False, meanline = True, showmeans=True, \n",
    "            medianprops=median_style, meanprops=mean_style)\n",
    "ax1.set_xticklabels(labels, rotation=15) # Rotate the axes\n",
    "plt.show()"
   ]
  },
  {
   "cell_type": "markdown",
   "metadata": {},
   "source": [
    "## Evaluate Jaccard Index"
   ]
  },
  {
   "cell_type": "code",
   "execution_count": 133,
   "metadata": {},
   "outputs": [],
   "source": [
    "'''\n",
    "Return the Jaccard Score between the true and prediction array\n",
    "@input: ground truth\n",
    "@input: predicted values from model\n",
    "@return: Jaccard score in numpy value\n",
    "'''\n",
    "def jaccard_score(y_true, y_pred):\n",
    "    y_true_f = K.flatten(y_true)\n",
    "    y_pred_f = K.flatten(y_pred)\n",
    "    intersection = K.sum(y_true_f * y_pred_f)\n",
    "    return ((intersection) / \\\n",
    "        (K.sum(y_true_f) + K.sum(y_pred_f) - intersection)).numpy()\n",
    "\n",
    "'''\n",
    "Calculate dice coefficient between predicted model output and targets\n",
    "@input: computed model predictions \n",
    "@input: test targets that function as ground truth\n",
    "@return: numpy array with dice scores\n",
    "'''\n",
    "def jaccard_eval(model_preds, test_targets):\n",
    "    jaccard_scores = []\n",
    "    for i in range(model_preds.shape[0]):\n",
    "        jaccard_scores.append(jaccard_score(test_targets[i,:,:].astype('float64'), model_preds[i, :, :].astype('float64')))\n",
    "    return np.asarray(jaccard_scores)"
   ]
  },
  {
   "cell_type": "code",
   "execution_count": 142,
   "metadata": {},
   "outputs": [],
   "source": [
    "#Compute Jaccard for Base Model\n",
    "bmodel_jaccard = jaccard_eval(bmodel_preds, test_targets)\n",
    "\n",
    "#Compute Jaccard for GM no pretrain\n",
    "gm_no_pretrain_jaccard = jaccard_eval(gm_no_pretrain_preds, test_targets)\n",
    "\n",
    "#Compute Jaccard for GM pretrain\n",
    "gm_pretrain_jaccard = jaccard_eval(gm_pretrain_preds, test_targets)\n",
    "\n",
    "#Compute Jaccard for GM Aug no pretrain\n",
    "gm_aug_no_pretrain_jaccard = jaccard_eval(gm_aug_no_pretrain_preds, test_targets)\n",
    "\n",
    "#Compute Jaccard for GM Aug pretrain\n",
    "gm_aug_pretrain_jaccard = jaccard_eval(gm_aug_pretrain_preds, test_targets)"
   ]
  },
  {
   "cell_type": "code",
   "execution_count": 143,
   "metadata": {},
   "outputs": [
    {
     "data": {
      "image/png": "[encoded data removed]",
      "text/plain": [
       "<Figure size 432x288 with 1 Axes>"
      ]
     },
     "metadata": {
      "needs_background": "light"
     },
     "output_type": "display_data"
    }
   ],
   "source": [
    "fig2, ax2 = plt.subplots()\n",
    "# Create the boxplot\n",
    "jaccard_data = [bmodel_jaccard, gm_no_pretrain_jaccard, gm_pretrain_jaccard, gm_aug_no_pretrain_jaccard, gm_aug_pretrain_jaccard]\n",
    "ax2.set_ylabel('Jaccard Index')\n",
    "# ax1.set_ylim([0, 1])\n",
    "ax2.boxplot(jaccard_data, showfliers=False, meanline = True, showmeans=True, \n",
    "            medianprops=median_style, meanprops=mean_style)\n",
    "ax2.set_xticklabels(labels, rotation=15) # Rotate the axes\n",
    "plt.show()"
   ]
  },
  {
   "cell_type": "markdown",
   "metadata": {},
   "source": [
    "## Evaluate True Positive Rate"
   ]
  },
  {
   "cell_type": "code",
   "execution_count": 148,
   "metadata": {},
   "outputs": [],
   "source": [
    "'''\n",
    "Calculate true positive rate between predicted model output and targets\n",
    "@input: computed model predictions \n",
    "@input: test targets that function as ground truth\n",
    "@return: numpy array with tpr scores\n",
    "'''\n",
    "def tpr_eval(model_preds, test_targets):\n",
    "    tpr_scores = []\n",
    "    for i in range(model_preds.shape[0]):\n",
    "        tpr_scores.append(recall_score(test_targets[i,:,:].flatten(), model_preds[i, :, :].flatten()) * 100)\n",
    "    return np.asarray(tpr_scores)"
   ]
  },
  {
   "cell_type": "code",
   "execution_count": 149,
   "metadata": {},
   "outputs": [],
   "source": [
    "#Compute tpr for Base Model\n",
    "bmodel_tpr = tpr_eval(bmodel_preds, test_targets)\n",
    "\n",
    "#Compute tpr for GM no pretrain\n",
    "gm_no_pretrain_tpr = tpr_eval(gm_no_pretrain_preds, test_targets)\n",
    "\n",
    "#Compute tpr for GM pretrain\n",
    "gm_pretrain_tpr = tpr_eval(gm_pretrain_preds, test_targets)\n",
    "\n",
    "#Compute tpr for GM Aug no pretrain\n",
    "gm_aug_no_pretrain_tpr = tpr_eval(gm_aug_no_pretrain_preds, test_targets)\n",
    "\n",
    "#Compute tpr for GM Aug pretrain\n",
    "gm_aug_pretrain_tpr = tpr_eval(gm_aug_pretrain_preds, test_targets)"
   ]
  },
  {
   "cell_type": "code",
   "execution_count": 150,
   "metadata": {},
   "outputs": [
    {
     "data": {
      "image/png": "[encoded data removed]",
      "text/plain": [
       "<Figure size 432x288 with 1 Axes>"
      ]
     },
     "metadata": {
      "needs_background": "light"
     },
     "output_type": "display_data"
    }
   ],
   "source": [
    "fig3, ax3 = plt.subplots()\n",
    "# Create the boxplot\n",
    "tpr_data = [bmodel_tpr, gm_no_pretrain_tpr, gm_pretrain_tpr, gm_aug_no_pretrain_tpr, gm_aug_pretrain_tpr]\n",
    "ax3.set_ylabel('TPR metric')\n",
    "# ax1.set_ylim([0, 1])\n",
    "ax3.boxplot(tpr_data, showfliers=False, meanline = True, showmeans=True, \n",
    "            medianprops=median_style, meanprops=mean_style)\n",
    "ax3.set_xticklabels(labels, rotation=15) # Rotate the axes\n",
    "plt.show()"
   ]
  },
  {
   "cell_type": "markdown",
   "metadata": {},
   "source": [
    "## Calculate False Positive, False Negative, True Positive, and True Negative"
   ]
  },
  {
   "cell_type": "code",
   "execution_count": 167,
   "metadata": {},
   "outputs": [],
   "source": [
    "'''\n",
    "Calculate tn, fp, fn, and tp between predicted model output and targets\n",
    "@input: computed model predictions \n",
    "@input: test targets that function as ground truth\n",
    "@return: four numpy array with the values\n",
    "'''\n",
    "def confusion_eval(model_preds, test_targets):\n",
    "    tn_scores = []\n",
    "    fp_scores = []\n",
    "    fn_scores = []\n",
    "    tp_scores = []\n",
    "    for i in range(model_preds.shape[0]):\n",
    "        tn, fp, fn, tp = confusion_matrix(test_targets[i,:,:].flatten(), model_preds[i, :, :].flatten()).ravel()\n",
    "        tn_scores.append(tn)\n",
    "        fp_scores.append(fp)\n",
    "        fn_scores.append(fn)\n",
    "        tp_scores.append(tp)\n",
    "    return np.asarray(tn_scores), np.asarray(fp_scores), np.asarray(fn_scores), np.asarray(tp_scores)"
   ]
  },
  {
   "cell_type": "code",
   "execution_count": 168,
   "metadata": {},
   "outputs": [],
   "source": [
    "#Compute confusion for Base Model\n",
    "bmodel_tn, bmodel_fp, bmodel_fn, bmodel_tp  = confusion_eval(bmodel_preds, test_targets)\n",
    "\n",
    "#Compute confusion for GM no pretrain\n",
    "gm_no_pretrain_tn, gm_no_pretrain_fp, gm_no_pretrain_fn, gm_no_pretrain_tp  = confusion_eval(gm_no_pretrain_preds, test_targets)\n",
    "\n",
    "#Compute confusion for GM pretrain\n",
    "gm_pretrain_tn, gm_pretrain_fp, gm_pretrain_fn, gm_pretrain_tp  = confusion_eval(gm_pretrain_preds, test_targets)\n",
    "\n",
    "#Compute confusion for GM Aug no pretrain\n",
    "gm_aug_no_pretrain_tn, gm_aug_no_pretrain_fp, gm_aug_no_pretrain_fn, gm_aug_no_pretrain_tp = confusion_eval(gm_aug_no_pretrain_preds, test_targets)\n",
    "\n",
    "#Compute confusion for GM Aug pretrain\n",
    "gm_aug_pretrain_tn, gm_aug_pretrain_fp, gm_aug_pretrain_fn, gm_aug_pretrain_tp  = confusion_eval(gm_aug_pretrain_preds, test_targets)"
   ]
  },
  {
   "cell_type": "markdown",
   "metadata": {},
   "source": [
    "## Evaluate Conformity Coefficient"
   ]
  },
  {
   "cell_type": "code",
   "execution_count": 191,
   "metadata": {},
   "outputs": [],
   "source": [
    "'''\n",
    "Return the Conformity Coefficient\n",
    "@input: FP value\n",
    "@input: FN Value\n",
    "@input: TP Value\n",
    "@return: Conformity Coefficient\n",
    "'''\n",
    "def conf_coef(fp, fn, tp):\n",
    "    return ((1 - ((fp + fn) / tp)) * 100)\n",
    "\n",
    "'''\n",
    "Compute the conformity coeficient over the fp, fn, and tp array\n",
    "@input: fp, fn, and tp arrays\n",
    "@return: cc array\n",
    "'''\n",
    "def conf_eval(fp_array, fn_array, tp_array):\n",
    "    cc_scores = []\n",
    "    for i in range(len(fp_array)):\n",
    "        if tp_array[i] != 0:\n",
    "            cc_scores.append(conf_coef(fp_array[i], fn_array[i], tp_array[i]))\n",
    "    return np.asarray(cc_scores)"
   ]
  },
  {
   "cell_type": "code",
   "execution_count": 192,
   "metadata": {},
   "outputs": [],
   "source": [
    "#Compute cc for Base Model\n",
    "bmodel_cc = conf_eval(bmodel_fp, bmodel_fn, bmodel_tp)\n",
    "\n",
    "#Compute cc for GM no pretrain\n",
    "gm_no_pretrain_cc = conf_eval(gm_no_pretrain_fp, gm_no_pretrain_fn, gm_no_pretrain_tp)\n",
    "\n",
    "#Compute cc for GM pretrain\n",
    "gm_pretrain_cc = conf_eval(gm_pretrain_fp, gm_pretrain_fn, gm_pretrain_tp)\n",
    "\n",
    "#Compute cc for GM Aug no pretrain\n",
    "gm_aug_no_pretrain_cc = conf_eval(gm_aug_no_pretrain_fp, gm_aug_no_pretrain_fn, gm_aug_no_pretrain_tp)\n",
    "\n",
    "#Compute cc for GM Aug pretrain\n",
    "gm_aug_pretrain_cc = conf_eval(gm_aug_pretrain_fp, gm_aug_pretrain_fn, gm_aug_pretrain_tp) "
   ]
  },
  {
   "cell_type": "code",
   "execution_count": 193,
   "metadata": {},
   "outputs": [
    {
     "data": {
      "image/png": "[encoded data removed]",
      "text/plain": [
       "<Figure size 432x288 with 1 Axes>"
      ]
     },
     "metadata": {
      "needs_background": "light"
     },
     "output_type": "display_data"
    }
   ],
   "source": [
    "fig4, ax4 = plt.subplots()\n",
    "# Create the boxplot\n",
    "cc_data = [bmodel_cc, gm_no_pretrain_cc, gm_pretrain_cc, gm_aug_no_pretrain_cc, gm_aug_pretrain_cc]\n",
    "ax4.set_ylabel('CC metric')\n",
    "# ax1.set_ylim([0, 1])\n",
    "ax4.boxplot(cc_data, showfliers=False, meanline = True, showmeans=True, \n",
    "            medianprops=median_style, meanprops=mean_style)\n",
    "ax4.set_xticklabels(labels, rotation=15) # Rotate the axes\n",
    "plt.show()"
   ]
  },
  {
   "cell_type": "markdown",
   "metadata": {},
   "source": [
    "## Evaluate True Negative Rate"
   ]
  },
  {
   "cell_type": "code",
   "execution_count": 197,
   "metadata": {},
   "outputs": [],
   "source": [
    "'''\n",
    "Return the True Negative Rate\n",
    "@input: TN and FP value\n",
    "@return: True Negative Rate\n",
    "'''\n",
    "def tnr_rate(tn, fp):\n",
    "    return ((tn / (tn + fp)) * 100)\n",
    "\n",
    "'''\n",
    "Compute the true negative rate over the tn and fp array\n",
    "@input: tn and fp array\n",
    "@return: True Negative Rate array\n",
    "'''\n",
    "def tnr_eval(tn_array, fp_array):\n",
    "    tnr_scores = []\n",
    "    for i in range(len(tn_array)):\n",
    "        tnr_scores.append(tnr_rate(tn_array[i], fp_array[i]))\n",
    "    return np.asarray(tnr_scores)\n"
   ]
  },
  {
   "cell_type": "code",
   "execution_count": 198,
   "metadata": {},
   "outputs": [],
   "source": [
    "#Compute tnr for Base Model\n",
    "bmodel_tnr = tnr_eval(bmodel_tn, bmodel_fp)\n",
    "\n",
    "#Compute tnr for GM no pretrain\n",
    "gm_no_pretrain_tnr = tnr_eval(gm_no_pretrain_tn, gm_no_pretrain_fp)\n",
    "\n",
    "#Compute tnr for GM pretrain\n",
    "gm_pretrain_tnr = tnr_eval(gm_pretrain_tn, gm_pretrain_fp)\n",
    "\n",
    "#Compute tnr for GM Aug no pretrain\n",
    "gm_aug_no_pretrain_tnr = tnr_eval(gm_aug_no_pretrain_tn, gm_aug_no_pretrain_fp)\n",
    "\n",
    "#Compute tnr for GM Aug pretrain\n",
    "gm_aug_pretrain_tnr = tnr_eval(gm_aug_pretrain_tn, gm_aug_pretrain_fp) "
   ]
  },
  {
   "cell_type": "code",
   "execution_count": 200,
   "metadata": {},
   "outputs": [
    {
     "data": {
      "image/png": "[encoded data removed]",
      "text/plain": [
       "<Figure size 432x288 with 1 Axes>"
      ]
     },
     "metadata": {
      "needs_background": "light"
     },
     "output_type": "display_data"
    }
   ],
   "source": [
    "fig5, ax5 = plt.subplots()\n",
    "# Create the boxplot\n",
    "tnr_data = [bmodel_tnr, gm_no_pretrain_tnr, gm_pretrain_tnr, gm_aug_no_pretrain_tnr, gm_aug_pretrain_tnr]\n",
    "ax5.set_ylabel('TNR metric')\n",
    "# ax1.set_ylim([0, 1])\n",
    "ax5.boxplot(tnr_data, showfliers=False, meanline = True, showmeans=True, \n",
    "            medianprops=median_style, meanprops=mean_style)\n",
    "ax5.set_xticklabels(labels, rotation=15) # Rotate the axes\n",
    "plt.show()"
   ]
  },
  {
   "cell_type": "markdown",
   "metadata": {},
   "source": [
    "## Evaluate Positive Predictive Value"
   ]
  },
  {
   "cell_type": "code",
   "execution_count": 208,
   "metadata": {},
   "outputs": [],
   "source": [
    "'''\n",
    "Return the Positive Predictive Value\n",
    "@input: TP and FP value\n",
    "@return: Positive Predictive Value\n",
    "'''\n",
    "def ppv_rate(tp, fp):\n",
    "    return ((tp / (tp + fp)) * 100)\n",
    "\n",
    "'''\n",
    "Compute the Positive Predictive Value over the tp and fp array\n",
    "@input: tp and fp array\n",
    "@return: Positive Predictive Value array\n",
    "'''\n",
    "def ppv_eval(tp_array, fp_array):\n",
    "    ppv_scores = []\n",
    "    for i in range(len(tp_array)):\n",
    "        if tp_array[i] + fp_array[i] != 0:\n",
    "            ppv_scores.append(ppv_rate(tp_array[i], fp_array[i]))\n",
    "    return np.asarray(ppv_scores)"
   ]
  },
  {
   "cell_type": "code",
   "execution_count": 209,
   "metadata": {},
   "outputs": [],
   "source": [
    "#Compute ppv for Base Model\n",
    "bmodel_ppv = ppv_eval(bmodel_tp, bmodel_fp)\n",
    "\n",
    "#Compute ppv for GM no pretrain\n",
    "gm_no_pretrain_ppv = ppv_eval(gm_no_pretrain_tp, gm_no_pretrain_fp)\n",
    "\n",
    "#Compute ppv for GM pretrain\n",
    "gm_pretrain_ppv = ppv_eval(gm_pretrain_tp, gm_pretrain_fp)\n",
    "\n",
    "#Compute ppv for GM Aug no pretrain\n",
    "gm_aug_no_pretrain_ppv = ppv_eval(gm_aug_no_pretrain_tp, gm_aug_no_pretrain_fp)\n",
    "\n",
    "#Compute ppv for GM Aug pretrain\n",
    "gm_aug_pretrain_ppv = ppv_eval(gm_aug_pretrain_tp, gm_aug_pretrain_fp) "
   ]
  },
  {
   "cell_type": "code",
   "execution_count": 210,
   "metadata": {},
   "outputs": [
    {
     "data": {
      "image/png": "[encoded data removed]",
      "text/plain": [
       "<Figure size 432x288 with 1 Axes>"
      ]
     },
     "metadata": {
      "needs_background": "light"
     },
     "output_type": "display_data"
    }
   ],
   "source": [
    "fig6, ax6 = plt.subplots()\n",
    "# Create the boxplot\n",
    "ppv_data = [bmodel_ppv, gm_no_pretrain_ppv, gm_pretrain_ppv, gm_aug_no_pretrain_ppv, gm_aug_pretrain_ppv]\n",
    "ax6.set_ylabel('PPV metric')\n",
    "# ax1.set_ylim([0, 1])\n",
    "ax6.boxplot(ppv_data, showfliers=False, meanline = True, showmeans=True, \n",
    "            medianprops=median_style, meanprops=mean_style)\n",
    "ax6.set_xticklabels(labels, rotation=15) # Rotate the axes\n",
    "plt.show()"
   ]
  }
 ],
 "metadata": {
  "interpreter": {
   "hash": "d6133c151687e28e348b87d0490d3f44a97849535b926f9464e955e97e7f76a6"
  },
  "kernelspec": {
   "display_name": "Python 3.8.11 ('py38')",
   "language": "python",
   "name": "python3"
  },
  "language_info": {
   "codemirror_mode": {
    "name": "ipython",
    "version": 3
   },
   "file_extension": ".py",
   "mimetype": "text/x-python",
   "name": "python",
   "nbconvert_exporter": "python",
   "pygments_lexer": "ipython3",
   "version": "3.8.11"
  },
  "orig_nbformat": 4
 },
 "nbformat": 4,
 "nbformat_minor": 2
}
