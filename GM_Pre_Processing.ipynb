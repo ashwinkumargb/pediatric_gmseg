{
 "cells": [
  {
   "cell_type": "markdown",
   "metadata": {},
   "source": [
    "# Pre-Processing Pipeline for Pediatric GM Segmentation\n",
    "\n",
    "Author: Ashwin Kumar  \n",
    "Email: ashwin.kumar@vanderbilt.edu  \n",
    "Description: Involves obtaining all spinal cord files, resampling the dimensions to 256 x 256 2D shaped slices,\n",
    "automatically performing GM segmentation, and then manually editing the segmentation.\n",
    "\n",
    "Note: The following sequence was run on Mac OS.\n",
    "\n",
    "\n"
   ]
  },
  {
   "cell_type": "code",
   "execution_count": null,
   "metadata": {},
   "outputs": [],
   "source": [
    "import os\n",
    "import shutil\n",
    "import subprocess"
   ]
  },
  {
   "cell_type": "code",
   "execution_count": null,
   "metadata": {},
   "outputs": [],
   "source": [
    "'''\n",
    "Create New Directories\n",
    "@input: base_dir for where folder needs to be created\n",
    "@input: directory name for what needs to be created\n",
    "'''\n",
    "def create_directory(base_dir: str, dir_name: str):\n",
    "    joined_path = os.path.join(base_dir, dir_name)\n",
    "    if not os.path.isdir(joined_path):\n",
    "        os.mkdir(joined_path)"
   ]
  },
  {
   "cell_type": "markdown",
   "metadata": {},
   "source": [
    "### Getting all controls, create folder, copy the mffe_crop into directory"
   ]
  },
  {
   "cell_type": "code",
   "execution_count": null,
   "metadata": {},
   "outputs": [],
   "source": [
    "patient_dir_folder = '/Users/captain/Documents/otherComputer/Documents/Patient_Data_Folder'\n",
    "patient_dir_extension = 'DTI_Data/niftis'\n",
    "working_dir = '/Users/captain/Documents/combined_roi/pediatric_gmseg'\n",
    "\n",
    "# Go through each new line and copy the mFFE into the appropriate folder\n",
    "with open(os.path.join(working_dir, 'Controls.txt')) as fp:\n",
    "    Lines = fp.readlines()\n",
    "    for line in Lines:\n",
    "        dirID = str(int(line))\n",
    "        create_directory(working_dir, dirID) # Create Directory\n",
    "        os.chdir(os.path.join(patient_dir_folder,dirID, patient_dir_extension)) #Change to Patient_Dir\n",
    "        shutil.copy2('mFFE_crop.nii', os.path.join(working_dir, dirID)) # Copy mFFE File\n",
    "        "
   ]
  },
  {
   "cell_type": "markdown",
   "metadata": {},
   "source": [
    "#### Processing the Lumbar Cord Files"
   ]
  },
  {
   "cell_type": "code",
   "execution_count": null,
   "metadata": {},
   "outputs": [],
   "source": [
    "patient_dir_folder = '/Users/captain/Documents/otherComputer/Documents/Patient_Data_Folder'\n",
    "patient_dir_extension = 'DTI_Data/niftis_Second'\n",
    "working_dir = '/Users/captain/Documents/combined_roi/pediatric_gmseg'\n",
    "\n",
    "# Repeat for the Lumbar cord files\n",
    "with open(os.path.join(working_dir, 'Controls_second.txt')) as fp:\n",
    "    Lines = fp.readlines()\n",
    "    for line in Lines:\n",
    "        dirID = str(int(line))\n",
    "        create_directory(working_dir, dirID + '_second') # Create Directory\n",
    "        os.chdir(os.path.join(patient_dir_folder,dirID, patient_dir_extension)) #Change to Patient_Dir\n",
    "        shutil.copy2('mFFE_crop.nii', os.path.join(working_dir, dirID  + '_second')) # Copy mFFE File"
   ]
  },
  {
   "cell_type": "markdown",
   "metadata": {},
   "source": [
    "### Resample mffe_crop.nii to 256 x 256"
   ]
  },
  {
   "cell_type": "code",
   "execution_count": null,
   "metadata": {},
   "outputs": [],
   "source": [
    "# Go through every directory\n",
    "for root, subdirectories, files in os.walk(working_dir):\n",
    "    for subdirectory in subdirectories:\n",
    "        if subdirectory.split('_')[0].isdigit():\n",
    "            print(subdirectory)\n",
    "            os.chdir(os.path.join(working_dir, subdirectory))\n",
    "            # Resample mFFE_crop to 256 x 256\n",
    "            subprocess.run(['sct_resample', '-i', 'mFFE_crop.nii', '-vox', '256x256x14', '-o', 'mFFE_crop_r.nii.gz'])"
   ]
  },
  {
   "cell_type": "markdown",
   "metadata": {},
   "source": [
    "### Compute GM Seg using sct_deepseg_gm"
   ]
  },
  {
   "cell_type": "code",
   "execution_count": null,
   "metadata": {},
   "outputs": [],
   "source": [
    "# Go through every directory\n",
    "for root, subdirectories, files in os.walk(working_dir):\n",
    "    for subdirectory in subdirectories:\n",
    "        if subdirectory.split('_')[0].isdigit():\n",
    "            print(subdirectory)\n",
    "            os.chdir(os.path.join(working_dir, subdirectory))\n",
    "            # Apply deepseg_gm\n",
    "            subprocess.run(['sct_deepseg_gm', '-i', 'mFFE_crop_r.nii.gz'])"
   ]
  },
  {
   "cell_type": "markdown",
   "metadata": {},
   "source": [
    "### Edit GMSeg"
   ]
  },
  {
   "cell_type": "code",
   "execution_count": null,
   "metadata": {},
   "outputs": [],
   "source": [
    "# Go through every directory\n",
    "for root, subdirectories, files in os.walk(working_dir):\n",
    "    for subdirectory in subdirectories:\n",
    "        if subdirectory.split('_')[0].isdigit():\n",
    "            print(subdirectory)\n",
    "            os.chdir(os.path.join(working_dir, subdirectory))\n",
    "            # Edit GM Seg\n",
    "            subprocess.run(['fsleyes', 'mFFE_crop_r.nii.gz', '-cm', 'greyscale', '-a', '100.0', 'mFFE_crop_r_gmseg.nii.gz', '-cm', 'red', '-a', '70.0'])"
   ]
  },
  {
   "cell_type": "code",
   "execution_count": null,
   "metadata": {},
   "outputs": [],
   "source": []
  }
 ],
 "metadata": {
  "interpreter": {
   "hash": "c11f87f5fba9d53f7f4480496793396c64d84d5f4a215684543ed784e59a5b5f"
  },
  "kernelspec": {
   "display_name": "Python 3.6.10 ('py36')",
   "language": "python",
   "name": "python3"
  },
  "language_info": {
   "codemirror_mode": {
    "name": "ipython",
    "version": 3
   },
   "file_extension": ".py",
   "mimetype": "text/x-python",
   "name": "python",
   "nbconvert_exporter": "python",
   "pygments_lexer": "ipython3",
   "version": "3.6.10"
  },
  "orig_nbformat": 4
 },
 "nbformat": 4,
 "nbformat_minor": 2
}
