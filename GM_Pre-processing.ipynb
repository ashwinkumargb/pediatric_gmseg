{
 "cells": [
  {
   "cell_type": "markdown",
   "metadata": {},
   "source": [
    "# Pre-Processing Pipeline for Pediatric GM Segmentation"
   ]
  },
  {
   "cell_type": "code",
   "execution_count": 32,
   "metadata": {},
   "outputs": [],
   "source": [
    "import os\n",
    "import shutil\n",
    "import subprocess\n",
    "import numpy as np\n",
    "import nibabel as nib"
   ]
  },
  {
   "cell_type": "code",
   "execution_count": 8,
   "metadata": {},
   "outputs": [],
   "source": [
    "'''\n",
    "Create New Directories\n",
    "@input: base_dir for where folder needs to be created\n",
    "@input: directory name for what needs to be created\n",
    "'''\n",
    "def create_directory(base_dir: str, dir_name: str):\n",
    "    joined_path = os.path.join(base_dir, dir_name)\n",
    "    if not os.path.isdir(joined_path):\n",
    "        os.mkdir(joined_path)"
   ]
  },
  {
   "cell_type": "markdown",
   "metadata": {},
   "source": [
    "### Getting all controls, create folder, copy the mffe_crop into directory"
   ]
  },
  {
   "cell_type": "code",
   "execution_count": 13,
   "metadata": {},
   "outputs": [],
   "source": [
    "patient_dir_folder = '/Users/captain/Documents/otherComputer/Documents/Patient_Data_Folder'\n",
    "patient_dir_extension = 'DTI_Data/niftis'\n",
    "working_dir = '/Users/captain/Documents/combined_roi/pediatric_gmseg'\n",
    "\n",
    "with open(os.path.join(working_dir, 'Controls.txt')) as fp:\n",
    "    Lines = fp.readlines()\n",
    "    for line in Lines:\n",
    "        dirID = str(int(line))\n",
    "        create_directory(working_dir, dirID) # Create Directory\n",
    "        os.chdir(os.path.join(patient_dir_folder,dirID, patient_dir_extension)) #Change to Patient_Dir\n",
    "        shutil.copy2('mFFE_crop.nii', os.path.join(working_dir, dirID)) # Copy mFFE File\n",
    "        "
   ]
  },
  {
   "cell_type": "markdown",
   "metadata": {},
   "source": [
    "#### Processing the Lumbar Cord Files"
   ]
  },
  {
   "cell_type": "code",
   "execution_count": 14,
   "metadata": {},
   "outputs": [],
   "source": [
    "patient_dir_folder = '/Users/captain/Documents/otherComputer/Documents/Patient_Data_Folder'\n",
    "patient_dir_extension = 'DTI_Data/niftis_Second'\n",
    "working_dir = '/Users/captain/Documents/combined_roi/pediatric_gmseg'\n",
    "\n",
    "with open(os.path.join(working_dir, 'Controls_second.txt')) as fp:\n",
    "    Lines = fp.readlines()\n",
    "    for line in Lines:\n",
    "        dirID = str(int(line))\n",
    "        create_directory(working_dir, dirID + '_second') # Create Directory\n",
    "        os.chdir(os.path.join(patient_dir_folder,dirID, patient_dir_extension)) #Change to Patient_Dir\n",
    "        shutil.copy2('mFFE_crop.nii', os.path.join(working_dir, dirID  + '_second')) # Copy mFFE File"
   ]
  },
  {
   "cell_type": "markdown",
   "metadata": {},
   "source": [
    "### Resample mffe_crop.nii to 256 x 256"
   ]
  },
  {
   "cell_type": "code",
   "execution_count": 42,
   "metadata": {},
   "outputs": [
    {
     "name": "stdout",
     "output_type": "stream",
     "text": [
      "135\n",
      "61\n",
      "179_second\n",
      "157\n",
      "150\n",
      "195\n",
      "161\n",
      "102\n",
      "56\n",
      "105\n",
      "58\n",
      "93\n",
      "160\n",
      "194\n",
      "92_second\n",
      "169\n",
      "226\n",
      "210\n",
      "244\n",
      "235\n",
      "173_second\n",
      "205\n",
      "174\n",
      "180\n",
      "187\n",
      "142\n",
      "189\n",
      "116\n",
      "127\n",
      "143\n",
      "144\n",
      "172\n",
      "181\n",
      "175\n",
      "21\n",
      "86\n",
      "88\n",
      "153\n",
      "196\n",
      "162\n",
      "191\n",
      "53\n",
      "37\n",
      "163\n",
      "197\n",
      "155\n",
      "199\n",
      "106\n",
      "52\n",
      "55\n",
      "166_second\n",
      "90\n",
      "247\n",
      "172_second\n",
      "207\n",
      "201\n",
      "208\n",
      "237\n",
      "112\n",
      "115\n",
      "70\n",
      "124\n",
      "148\n",
      "162_second\n",
      "125\n",
      "82\n",
      "114\n",
      "113\n",
      "140\n"
     ]
    }
   ],
   "source": [
    "# Go through every directory\n",
    "for root, subdirectories, files in os.walk(working_dir):\n",
    "    for subdirectory in subdirectories:\n",
    "        if subdirectory.split('_')[0].isdigit():\n",
    "            print(subdirectory)\n",
    "            os.chdir(os.path.join(working_dir, subdirectory))\n",
    "            # Resample mFFE_crop to 256 x 256\n",
    "            subprocess.run(['sct_resample', '-i', 'mFFE_crop.nii', '-vox', '256x256x14', '-o', 'mFFE_crop_r.nii.gz'])"
   ]
  },
  {
   "cell_type": "markdown",
   "metadata": {},
   "source": [
    "### Compute GM Seg"
   ]
  },
  {
   "cell_type": "code",
   "execution_count": 43,
   "metadata": {},
   "outputs": [
    {
     "name": "stdout",
     "output_type": "stream",
     "text": [
      "135\n",
      "61\n",
      "179_second\n",
      "157\n",
      "150\n",
      "195\n",
      "161\n",
      "102\n",
      "56\n",
      "105\n",
      "58\n",
      "93\n",
      "160\n",
      "194\n",
      "92_second\n",
      "169\n",
      "226\n",
      "210\n",
      "244\n",
      "235\n",
      "173_second\n",
      "205\n",
      "174\n",
      "180\n",
      "187\n",
      "142\n",
      "189\n",
      "116\n",
      "127\n",
      "143\n",
      "144\n",
      "172\n",
      "181\n",
      "175\n",
      "21\n",
      "86\n",
      "88\n",
      "153\n",
      "196\n",
      "162\n",
      "191\n",
      "53\n",
      "37\n",
      "163\n",
      "197\n",
      "155\n",
      "199\n",
      "106\n",
      "52\n",
      "55\n",
      "166_second\n",
      "90\n",
      "247\n",
      "172_second\n",
      "207\n",
      "201\n",
      "208\n",
      "237\n",
      "112\n",
      "115\n",
      "70\n",
      "124\n",
      "148\n",
      "162_second\n",
      "125\n",
      "82\n",
      "114\n",
      "113\n",
      "140\n"
     ]
    }
   ],
   "source": [
    "# Go through every directory\n",
    "for root, subdirectories, files in os.walk(working_dir):\n",
    "    for subdirectory in subdirectories:\n",
    "        if subdirectory.split('_')[0].isdigit():\n",
    "            print(subdirectory)\n",
    "            os.chdir(os.path.join(working_dir, subdirectory))\n",
    "            # Apply deepseg_gm\n",
    "            subprocess.run(['sct_deepseg_gm', '-i', 'mFFE_crop_r.nii.gz'])"
   ]
  },
  {
   "cell_type": "markdown",
   "metadata": {},
   "source": [
    "### Edit GMSeg"
   ]
  },
  {
   "cell_type": "code",
   "execution_count": 48,
   "metadata": {},
   "outputs": [
    {
     "name": "stdout",
     "output_type": "stream",
     "text": [
      "179_second\n",
      "157\n",
      "150\n",
      "195\n",
      "161\n",
      "102\n",
      "56\n",
      "105\n",
      "58\n",
      "93\n",
      "160\n",
      "194\n",
      "92_second\n",
      "169\n",
      "226\n",
      "210\n",
      "244\n",
      "235\n",
      "173_second\n",
      "205\n",
      "174\n",
      "180\n",
      "187\n",
      "142\n",
      "189\n",
      "116\n",
      "127\n",
      "143\n",
      "144\n",
      "172\n",
      "181\n",
      "175\n",
      "21\n",
      "86\n",
      "88\n",
      "153\n",
      "196\n",
      "162\n",
      "191\n",
      "53\n",
      "37\n",
      "163\n",
      "197\n",
      "155\n",
      "199\n",
      "106\n",
      "52\n",
      "55\n",
      "166_second\n",
      "90\n",
      "247\n",
      "172_second\n",
      "207\n",
      "201\n",
      "208\n",
      "237\n",
      "112\n",
      "115\n",
      "70\n",
      "124\n",
      "148\n",
      "162_second\n",
      "125\n",
      "82\n",
      "114\n",
      "113\n",
      "140\n"
     ]
    }
   ],
   "source": [
    "# Go through every directory\n",
    "for root, subdirectories, files in os.walk(working_dir):\n",
    "    for subdirectory in subdirectories:\n",
    "        if subdirectory.split('_')[0].isdigit():\n",
    "            print(subdirectory)\n",
    "            os.chdir(os.path.join(working_dir, subdirectory))\n",
    "            # Edit GM Seg\n",
    "            subprocess.run(['fsleyes', 'mFFE_crop_r.nii.gz', '-cm', 'greyscale', '-a', '100.0', 'mFFE_crop_r_gmseg.nii.gz', '-cm', 'red', '-a', '70.0'])"
   ]
  },
  {
   "cell_type": "code",
   "execution_count": null,
   "metadata": {},
   "outputs": [],
   "source": []
  }
 ],
 "metadata": {
  "interpreter": {
   "hash": "c11f87f5fba9d53f7f4480496793396c64d84d5f4a215684543ed784e59a5b5f"
  },
  "kernelspec": {
   "display_name": "Python 3.6.10 ('py36')",
   "language": "python",
   "name": "python3"
  },
  "language_info": {
   "codemirror_mode": {
    "name": "ipython",
    "version": 3
   },
   "file_extension": ".py",
   "mimetype": "text/x-python",
   "name": "python",
   "nbconvert_exporter": "python",
   "pygments_lexer": "ipython3",
   "version": "3.6.10"
  },
  "orig_nbformat": 4
 },
 "nbformat": 4,
 "nbformat_minor": 2
}
